{
 "cells": [
  {
   "cell_type": "code",
   "execution_count": 1,
   "id": "74ea49dd-3241-40da-80f0-2bc4017f4aa8",
   "metadata": {},
   "outputs": [
    {
     "name": "stdout",
     "output_type": "stream",
     "text": [
      "Welcome to Python for Data Science\n"
     ]
    }
   ],
   "source": [
    "print(\"Welcome to Python for Data Science\")"
   ]
  },
  {
   "cell_type": "code",
   "execution_count": 3,
   "id": "7a9b592a-b1df-419b-bbf0-eb9059c4a80f",
   "metadata": {},
   "outputs": [
    {
     "name": "stdout",
     "output_type": "stream",
     "text": [
      "Hi my name is Kingsley, I love Python for Data Science and I have 8 of experience\n"
     ]
    }
   ],
   "source": [
    "your_name = \"Kingsley\"\n",
    "fav_tool = \"Python\"\n",
    "years_exp = 8\n",
    "print(f\"Hi my name is {your_name}, I love {fav_tool} for Data Science and I have {years_exp} of experience\")"
   ]
  },
  {
   "cell_type": "code",
   "execution_count": null,
   "id": "56027eb4-5f8d-47cc-9dce-3946a6784a87",
   "metadata": {},
   "outputs": [],
   "source": []
  }
 ],
 "metadata": {
  "kernelspec": {
   "display_name": "Python [conda env:base] *",
   "language": "python",
   "name": "conda-base-py"
  },
  "language_info": {
   "codemirror_mode": {
    "name": "ipython",
    "version": 3
   },
   "file_extension": ".py",
   "mimetype": "text/x-python",
   "name": "python",
   "nbconvert_exporter": "python",
   "pygments_lexer": "ipython3",
   "version": "3.12.7"
  }
 },
 "nbformat": 4,
 "nbformat_minor": 5
}
