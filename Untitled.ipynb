{
 "cells": [
  {
   "cell_type": "code",
   "execution_count": 1,
   "id": "0a788478-281d-40ca-ab5b-feb5be051234",
   "metadata": {},
   "outputs": [
    {
     "name": "stdout",
     "output_type": "stream",
     "text": [
      "Hello World\n"
     ]
    }
   ],
   "source": [
    "print (\"Hello World\")"
   ]
  },
  {
   "cell_type": "code",
   "execution_count": 2,
   "id": "825b022e-437b-4b99-98fe-a8a8a5f258b2",
   "metadata": {},
   "outputs": [
    {
     "name": "stdout",
     "output_type": "stream",
     "text": [
      "welcome to DS\n"
     ]
    }
   ],
   "source": [
    "print (\"welcome to DS\")"
   ]
  },
  {
   "cell_type": "code",
   "execution_count": 3,
   "id": "9ee6ce8c-ca9a-4b47-9d88-c811937e76bb",
   "metadata": {},
   "outputs": [
    {
     "name": "stdout",
     "output_type": "stream",
     "text": [
      "2\n"
     ]
    }
   ],
   "source": [
    "x = 2\n",
    "print (x)"
   ]
  },
  {
   "cell_type": "code",
   "execution_count": 4,
   "id": "3b9b76d5-e228-47d3-9398-f173643392cf",
   "metadata": {},
   "outputs": [
    {
     "data": {
      "text/plain": [
       "int"
      ]
     },
     "execution_count": 4,
     "metadata": {},
     "output_type": "execute_result"
    }
   ],
   "source": [
    "type (x)"
   ]
  },
  {
   "cell_type": "code",
   "execution_count": 8,
   "id": "3cec771d-9247-49df-8474-d845d6b2784a",
   "metadata": {},
   "outputs": [
    {
     "name": "stdout",
     "output_type": "stream",
     "text": [
      "1.5\n"
     ]
    }
   ],
   "source": [
    "y = 1.5\n",
    "print (y)"
   ]
  },
  {
   "cell_type": "code",
   "execution_count": 9,
   "id": "60bb869c-1ada-4697-82d0-5cdcf72cea40",
   "metadata": {},
   "outputs": [
    {
     "data": {
      "text/plain": [
       "float"
      ]
     },
     "execution_count": 9,
     "metadata": {},
     "output_type": "execute_result"
    }
   ],
   "source": [
    "type (y)"
   ]
  },
  {
   "cell_type": "code",
   "execution_count": 10,
   "id": "92712215-c1e1-4e5c-811f-9fea5ae930c3",
   "metadata": {},
   "outputs": [
    {
     "data": {
      "text/plain": [
       "str"
      ]
     },
     "execution_count": 10,
     "metadata": {},
     "output_type": "execute_result"
    }
   ],
   "source": [
    "y = \"This is a DS Class\"\n",
    "type (y)"
   ]
  },
  {
   "cell_type": "code",
   "execution_count": 12,
   "id": "55dd0cc4-2a67-4863-831c-3517a9ff9cae",
   "metadata": {},
   "outputs": [
    {
     "name": "stdout",
     "output_type": "stream",
     "text": [
      "This is a DS Class\n"
     ]
    }
   ],
   "source": [
    "print(y)"
   ]
  },
  {
   "cell_type": "code",
   "execution_count": 14,
   "id": "a85814d4-09df-4240-8995-b60ab81977e6",
   "metadata": {},
   "outputs": [
    {
     "name": "stdout",
     "output_type": "stream",
     "text": [
      "student-1\n",
      "student-2\n",
      "student-3\n"
     ]
    }
   ],
   "source": [
    "x,y,z = \"student-1\", \"student-2\", \"student-3\"\n",
    "print(x)\n",
    "print(y)\n",
    "print(z)"
   ]
  },
  {
   "cell_type": "code",
   "execution_count": 15,
   "id": "df5bd3fa-287e-4bcb-9d4f-421b62d50dc3",
   "metadata": {},
   "outputs": [
    {
     "name": "stdout",
     "output_type": "stream",
     "text": [
      "student-4\n",
      "student-5\n",
      "student-5\n"
     ]
    }
   ],
   "source": [
    "list = [\"student-4\", \"student-5\", \"student-6\"]\n",
    "x,y,z = list\n",
    "print(x)\n",
    "print(y)\n",
    "print(y)"
   ]
  },
  {
   "cell_type": "code",
   "execution_count": 16,
   "id": "3a4dee04-feaa-44a1-ac87-e624da30d915",
   "metadata": {},
   "outputs": [
    {
     "name": "stdout",
     "output_type": "stream",
     "text": [
      "10\n"
     ]
    },
    {
     "data": {
      "text/plain": [
       "int"
      ]
     },
     "execution_count": 16,
     "metadata": {},
     "output_type": "execute_result"
    }
   ],
   "source": [
    "x = 10\n",
    "print(x)\n",
    "type(x)"
   ]
  },
  {
   "cell_type": "code",
   "execution_count": 17,
   "id": "e905e75d-b171-48cf-a1b6-3ea4cad59cd5",
   "metadata": {},
   "outputs": [
    {
     "name": "stdout",
     "output_type": "stream",
     "text": [
      "hello\n"
     ]
    },
    {
     "data": {
      "text/plain": [
       "str"
      ]
     },
     "execution_count": 17,
     "metadata": {},
     "output_type": "execute_result"
    }
   ],
   "source": [
    "x = \"hello\"\n",
    "print(x)\n",
    "type(x)"
   ]
  },
  {
   "cell_type": "code",
   "execution_count": 18,
   "id": "319d43b8-1ae1-4bc5-a8e7-287768f840fe",
   "metadata": {},
   "outputs": [
    {
     "name": "stdout",
     "output_type": "stream",
     "text": [
      "Kingsley Umahoin\n"
     ]
    }
   ],
   "source": [
    "first_name = \"Kingsley\"\n",
    "last_name = \"Umahoin\"\n",
    "full_name = first_name + \" \" + last_name\n",
    "print(full_name)"
   ]
  },
  {
   "cell_type": "code",
   "execution_count": 19,
   "id": "25cac012-9418-4aec-b48b-7976ecb98d93",
   "metadata": {},
   "outputs": [
    {
     "name": "stdout",
     "output_type": "stream",
     "text": [
      "Kingsley Umahoin\n"
     ]
    }
   ],
   "source": [
    "name = \"Kingsley\" + \" \" + \"Umahoin\"\n",
    "print(name)"
   ]
  },
  {
   "cell_type": "code",
   "execution_count": 20,
   "id": "e23a21ff-9c2d-4435-9abf-5d677cc1a382",
   "metadata": {},
   "outputs": [
    {
     "name": "stdout",
     "output_type": "stream",
     "text": [
      "3.142\n"
     ]
    },
    {
     "data": {
      "text/plain": [
       "float"
      ]
     },
     "execution_count": 20,
     "metadata": {},
     "output_type": "execute_result"
    }
   ],
   "source": [
    "pi = 3.142\n",
    "print(pi)\n",
    "type(pi)"
   ]
  },
  {
   "cell_type": "code",
   "execution_count": 21,
   "id": "9710f7aa-4f05-4614-bb93-8136fbdf9c59",
   "metadata": {},
   "outputs": [],
   "source": [
    "is_student = True\n",
    "has_email = False\n",
    "is_valid = 5 > 3"
   ]
  },
  {
   "cell_type": "code",
   "execution_count": 22,
   "id": "039a8d42-add8-4c6e-9cdf-8c9d1fc13d90",
   "metadata": {},
   "outputs": [
    {
     "name": "stdout",
     "output_type": "stream",
     "text": [
      "True\n",
      "False\n",
      "True\n"
     ]
    }
   ],
   "source": [
    "print (is_student)\n",
    "print (has_email)\n",
    "print (is_valid)"
   ]
  },
  {
   "cell_type": "code",
   "execution_count": 23,
   "id": "2ce705ab-3a8f-4cb0-8e0a-0a09eb071e7f",
   "metadata": {},
   "outputs": [
    {
     "name": "stdout",
     "output_type": "stream",
     "text": [
      "25\n"
     ]
    }
   ],
   "source": [
    "name = \"Kingsley Omokhudu Umahoin\"\n",
    "print(len(name)) # Length of letters in a words"
   ]
  },
  {
   "cell_type": "code",
   "execution_count": 24,
   "id": "55bdba4f-d334-459b-a993-0e7bd4cf99fb",
   "metadata": {},
   "outputs": [
    {
     "name": "stdout",
     "output_type": "stream",
     "text": [
      "KINGSLEY OMOKHUDU UMAHOIN\n",
      "kingsley omokhudu umahoin\n",
      "Kingsley Omokhudu Umahoin\n",
      "Kingsley Omokhudu Umahoin\n",
      "Kingsley Omokhudu Umahoin\n"
     ]
    }
   ],
   "source": [
    "print(name.upper())\n",
    "print(name.lower())\n",
    "print(name.strip())\n",
    "print(name.lstrip())\n",
    "print(name.rstrip())"
   ]
  },
  {
   "cell_type": "code",
   "execution_count": 30,
   "id": "20667f14-3437-4f7f-9196-c9f8fbc5839e",
   "metadata": {},
   "outputs": [
    {
     "name": "stdout",
     "output_type": "stream",
     "text": [
      "apple, banana, cherry\n",
      "['apple', ' banana', ' cherry']\n"
     ]
    }
   ],
   "source": [
    "csv_data = \"apple, banana, cherry\"\n",
    "print(csv_data)\n",
    "print(csv_data.split(\",\")) # Splitting data"
   ]
  },
  {
   "cell_type": "code",
   "execution_count": 33,
   "id": "81d8bb37-be3b-4149-8ec2-fb3be70b0532",
   "metadata": {},
   "outputs": [
    {
     "name": "stdout",
     "output_type": "stream",
     "text": [
      "Strawberry, Elderberry, Coconut\n"
     ]
    }
   ],
   "source": [
    "join_data = [\"Strawberry, Elderberry, Coconut\"]\n",
    "print(\",\".join(join_data))"
   ]
  },
  {
   "cell_type": "code",
   "execution_count": 34,
   "id": "dec2d30f-694a-4120-9a30-da9ee2814f2f",
   "metadata": {},
   "outputs": [
    {
     "data": {
      "text/plain": [
       "1"
      ]
     },
     "execution_count": 34,
     "metadata": {},
     "output_type": "execute_result"
    }
   ],
   "source": [
    "\"student\".find(\"t\")"
   ]
  },
  {
   "cell_type": "code",
   "execution_count": 35,
   "id": "9a565ea5-48f7-480c-9eb2-5453e72e894e",
   "metadata": {},
   "outputs": [
    {
     "data": {
      "text/plain": [
       "4"
      ]
     },
     "execution_count": 35,
     "metadata": {},
     "output_type": "execute_result"
    }
   ],
   "source": [
    "\"student\".find(\"e\")"
   ]
  },
  {
   "cell_type": "code",
   "execution_count": 36,
   "id": "38eb6c96-39d1-4f50-afac-9755b0a0618f",
   "metadata": {},
   "outputs": [
    {
     "data": {
      "text/plain": [
       "2"
      ]
     },
     "execution_count": 36,
     "metadata": {},
     "output_type": "execute_result"
    }
   ],
   "source": [
    "\"Elderberry\".count(\"e\")"
   ]
  },
  {
   "cell_type": "code",
   "execution_count": 37,
   "id": "39ffbb0a-0156-428e-bf33-fa757ed7dc89",
   "metadata": {},
   "outputs": [
    {
     "data": {
      "text/plain": [
       "3"
      ]
     },
     "execution_count": 37,
     "metadata": {},
     "output_type": "execute_result"
    }
   ],
   "source": [
    "\"Elderberry\".count(\"r\")"
   ]
  },
  {
   "cell_type": "code",
   "execution_count": 39,
   "id": "d0f416d9-29af-43b6-8e9d-b36288be3a78",
   "metadata": {},
   "outputs": [
    {
     "data": {
      "text/plain": [
       "False"
      ]
     },
     "execution_count": 39,
     "metadata": {},
     "output_type": "execute_result"
    }
   ],
   "source": [
    "\"welcome\".startswith(\"ye\")"
   ]
  },
  {
   "cell_type": "code",
   "execution_count": 40,
   "id": "f1d64a0f-b30d-4b9c-ba74-6a925d370194",
   "metadata": {},
   "outputs": [
    {
     "data": {
      "text/plain": [
       "'Welcome To Ds'"
      ]
     },
     "execution_count": 40,
     "metadata": {},
     "output_type": "execute_result"
    }
   ],
   "source": [
    "\"welcome to DS\".title()"
   ]
  },
  {
   "cell_type": "code",
   "execution_count": 41,
   "id": "8591b581-696d-4a1e-ae2c-89e29950283f",
   "metadata": {},
   "outputs": [
    {
     "name": "stdout",
     "output_type": "stream",
     "text": [
      "Hello! my name is Kingsley and my age is 47\n"
     ]
    }
   ],
   "source": [
    "name = \"Kingsley\"\n",
    "age = 47\n",
    "print(f\"Hello! my name is {name} and my age is {age}\")"
   ]
  },
  {
   "cell_type": "code",
   "execution_count": 44,
   "id": "e094676a-a59e-4273-9179-66002263440a",
   "metadata": {},
   "outputs": [
    {
     "name": "stdout",
     "output_type": "stream",
     "text": [
      "Hello! My name is Ohimai Hadriel Umahoin, my age is 13 and I am a student True\n"
     ]
    }
   ],
   "source": [
    "name = \"Ohimai Hadriel Umahoin\"\n",
    "age = 13\n",
    "is_student = True\n",
    "print(f\"Hello! My name is {name}, my age is {age} and I am a student {is_student}\")"
   ]
  },
  {
   "cell_type": "code",
   "execution_count": 46,
   "id": "7e5e5849-a534-4ec8-9634-f622b8e411a9",
   "metadata": {},
   "outputs": [
    {
     "name": "stdout",
     "output_type": "stream",
     "text": [
      "False\n",
      "True\n"
     ]
    }
   ],
   "source": [
    "print(\"student1\".isalpha())\n",
    "print(\"student\".isalpha())"
   ]
  },
  {
   "cell_type": "code",
   "execution_count": 48,
   "id": "19cc1fbe-6de1-4af4-8c61-16a20d028c31",
   "metadata": {},
   "outputs": [
    {
     "data": {
      "text/plain": [
       "True"
      ]
     },
     "execution_count": 48,
     "metadata": {},
     "output_type": "execute_result"
    }
   ],
   "source": [
    "\"1234\".isdigit()"
   ]
  },
  {
   "cell_type": "code",
   "execution_count": 49,
   "id": "03341f7f-b2a6-4a8f-a70d-33c45acde888",
   "metadata": {},
   "outputs": [
    {
     "data": {
      "text/plain": [
       "True"
      ]
     },
     "execution_count": 49,
     "metadata": {},
     "output_type": "execute_result"
    }
   ],
   "source": [
    "\"Student1234\".isalnum()"
   ]
  },
  {
   "cell_type": "code",
   "execution_count": 57,
   "id": "c81be81b-1289-4de8-9935-523de899226f",
   "metadata": {},
   "outputs": [
    {
     "name": "stdout",
     "output_type": "stream",
     "text": [
      "[6, 5, 4, 3, 2, 2, 1]\n"
     ]
    }
   ],
   "source": [
    "list = [1,2,2,3,4,5,6]\n",
    "list.reverse()\n",
    "print(list)"
   ]
  },
  {
   "cell_type": "code",
   "execution_count": 58,
   "id": "425f118e-176d-4553-9c42-71da8ece69a9",
   "metadata": {},
   "outputs": [
    {
     "name": "stdout",
     "output_type": "stream",
     "text": [
      "[6, 5, 4, 3, 2, 1]\n"
     ]
    }
   ],
   "source": [
    "list = [1,2,3,4,5,6]\n",
    "rev_list = list[::-1]\n",
    "print(rev_list)"
   ]
  },
  {
   "cell_type": "code",
   "execution_count": null,
   "id": "d5c7f6e8-2598-44e6-99c5-19d7a63d91e7",
   "metadata": {},
   "outputs": [],
   "source": []
  },
  {
   "cell_type": "code",
   "execution_count": null,
   "id": "a59145dd-d43d-484c-aeac-5549847518d1",
   "metadata": {},
   "outputs": [],
   "source": []
  },
  {
   "cell_type": "code",
   "execution_count": null,
   "id": "d703a2df-15e2-45c8-b3a9-dfcd6fcc7987",
   "metadata": {},
   "outputs": [],
   "source": []
  },
  {
   "cell_type": "code",
   "execution_count": null,
   "id": "054c12e8-1894-4566-b1f3-b12df3264634",
   "metadata": {},
   "outputs": [],
   "source": []
  },
  {
   "cell_type": "code",
   "execution_count": null,
   "id": "2573f1f0-926a-46e6-bf04-5c38982725bb",
   "metadata": {},
   "outputs": [],
   "source": []
  },
  {
   "cell_type": "code",
   "execution_count": null,
   "id": "157d50e9-0760-4aec-8906-14e1060bcad8",
   "metadata": {},
   "outputs": [],
   "source": []
  },
  {
   "cell_type": "code",
   "execution_count": null,
   "id": "2fa0f51a-270b-4eb9-acce-bea06c156cc3",
   "metadata": {},
   "outputs": [],
   "source": []
  }
 ],
 "metadata": {
  "kernelspec": {
   "display_name": "Python [conda env:base] *",
   "language": "python",
   "name": "conda-base-py"
  },
  "language_info": {
   "codemirror_mode": {
    "name": "ipython",
    "version": 3
   },
   "file_extension": ".py",
   "mimetype": "text/x-python",
   "name": "python",
   "nbconvert_exporter": "python",
   "pygments_lexer": "ipython3",
   "version": "3.12.7"
  }
 },
 "nbformat": 4,
 "nbformat_minor": 5
}
